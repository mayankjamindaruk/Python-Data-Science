{
  "nbformat": 4,
  "nbformat_minor": 0,
  "metadata": {
    "colab": {
      "name": "Practice Data Science Titanic",
      "provenance": [],
      "collapsed_sections": [],
      "authorship_tag": "ABX9TyMZBB8dzLUjJsVnjiUdc3eO",
      "include_colab_link": true
    },
    "kernelspec": {
      "name": "python3",
      "display_name": "Python 3"
    }
  },
  "cells": [
    {
      "cell_type": "markdown",
      "metadata": {
        "id": "view-in-github",
        "colab_type": "text"
      },
      "source": [
        "<a href=\"https://colab.research.google.com/github/mayankjamindaruk/Python-Data-Science/blob/main/Practice_Data_Science_Titanic.ipynb\" target=\"_parent\"><img src=\"https://colab.research.google.com/assets/colab-badge.svg\" alt=\"Open In Colab\"/></a>"
      ]
    },
    {
      "cell_type": "code",
      "metadata": {
        "id": "pIp77h5xdsIe"
      },
      "source": [
        "# To get the outpout in single window ?\r\n",
        "from IPython.core.interactiveshell import InteractiveShell\r\n",
        "InteractiveShell.ast_node_interactivity = \"all\"\r\n",
        "\r\n",
        "# Linear Algebra and multidimentional arrays\r\n",
        "import pandas as pd\r\n",
        "\r\n",
        "# Data analysis and manipulation tool\r\n",
        "import numpy as np\r\n",
        "\r\n",
        "# Random number generator\r\n",
        "import random \r\n",
        "\r\n",
        "# Specialized container data types, Counter is dictionary sub-class for counting hashtable objects\r\n",
        "from collections import Counter\r\n",
        "\r\n",
        "# Visualization libraries\r\n",
        "import matplotlib.pyplot as plt\r\n",
        "\r\n",
        "import seaborn\r\n"
      ],
      "execution_count": null,
      "outputs": []
    }
  ]
}